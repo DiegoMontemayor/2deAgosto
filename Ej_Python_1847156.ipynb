{
  "nbformat": 4,
  "nbformat_minor": 0,
  "metadata": {
    "colab": {
      "name": "Ej_Python_1847156.ipynb",
      "provenance": [],
      "collapsed_sections": [
        "xHyO10l47tcJ",
        "X-ujV3mx9nak",
        "5_Q98C5EX-iy",
        "isBkM1WPYDsU",
        "_OY05bDQYWsp",
        "WztqWWFXM9jH",
        "4dQk39XtNYYe"
      ],
      "authorship_tag": "ABX9TyMZ3bLNH7PMmG6Cs88D+Swm",
      "include_colab_link": true
    },
    "kernelspec": {
      "name": "python3",
      "display_name": "Python 3"
    },
    "language_info": {
      "name": "python"
    }
  },
  "cells": [
    {
      "cell_type": "markdown",
      "metadata": {
        "id": "view-in-github",
        "colab_type": "text"
      },
      "source": [
        "<a href=\"https://colab.research.google.com/github/DiegoMontemayor/Mineria-de-Datos/blob/main/Ej_Python_1847156.ipynb\" target=\"_parent\"><img src=\"https://colab.research.google.com/assets/colab-badge.svg\" alt=\"Open In Colab\"/></a>"
      ]
    },
    {
      "cell_type": "markdown",
      "metadata": {
        "id": "wQX2iqKwOPEk"
      },
      "source": [
        "# **Nombre:** Diego Marcelo Montemayor Guerra\n",
        "# **Matrícula:** 1847156"
      ]
    },
    {
      "cell_type": "markdown",
      "metadata": {
        "id": "xHyO10l47tcJ"
      },
      "source": [
        "#Ejercicio 1:\n",
        "Realiza una variable con tu matricula y realiza una secuencia de imprimir con tu nombre y tu matricula concatenados."
      ]
    },
    {
      "cell_type": "code",
      "metadata": {
        "colab": {
          "base_uri": "https://localhost:8080/",
          "height": 52
        },
        "id": "3l-cPlWS65hD",
        "outputId": "2d687497-9ae3-4058-94b9-ca1e71487623"
      },
      "source": [
        "#https://www.delftstack.com/es/howto/python/python-check-variable-type/#:~:text=variable%20en%20Python.-,Utilizar%20la%20funci%C3%B3n%20type()%20para%20comprobar%20el%20tipo%20de,de%20datos%20de%20la%20variable.\n",
        "#https://j2logo.com/como-concatenar-y-formatear-strings/\n",
        "mat=\"1847156\"\n",
        "type(mat)\n",
        "print(\"Diego Montemayor\",mat)\n",
        "\"Diego Montemayor \"+mat"
      ],
      "execution_count": null,
      "outputs": [
        {
          "output_type": "stream",
          "text": [
            "Diego Montemayor 1847156\n"
          ],
          "name": "stdout"
        },
        {
          "output_type": "execute_result",
          "data": {
            "application/vnd.google.colaboratory.intrinsic+json": {
              "type": "string"
            },
            "text/plain": [
              "'Diego Montemayor 1847156'"
            ]
          },
          "metadata": {},
          "execution_count": 49
        }
      ]
    },
    {
      "cell_type": "markdown",
      "metadata": {
        "id": "X-ujV3mx9nak"
      },
      "source": [
        "#Ejercicio 2\n",
        "Pidiendo el input del usuario pide dos números y crea una pequeña calculadora con los operadores básicos de suma, resta, multiplicación, división, y exponente."
      ]
    },
    {
      "cell_type": "code",
      "metadata": {
        "colab": {
          "base_uri": "https://localhost:8080/"
        },
        "id": "sgRE0Il6-JQQ",
        "outputId": "15d74d69-89a7-485b-af5c-0938fb2be59b"
      },
      "source": [
        "#https://codingornot.com/08-python-validar-entradas-ejemplos11\n",
        "#https://www.mclibre.org/consultar/python/lecciones/python-entrada-teclado.html\n",
        "#https://es.stackoverflow.com/questions/49194/c%C3%B3mo-convertir-un-tipo-string-a-float-o-int\n",
        "b=0 #Bandera\n",
        "while b == 0:\n",
        "  print(\"Ingrese el 1er. número\")\n",
        "  n1=input()\n",
        "  print(\"\\nIngrese un 2do. número\")\n",
        "  n2=input()\n",
        "  try:\n",
        "    print(\"\\n\\nSuma: \",float(n1),\"+\",float(n2),\"=\",float(n1)+float(n2))\n",
        "    b=1\n",
        "  except ValueError:\n",
        "    print(\"\\n\\nSolamente ingrese números por favor.\")\n",
        "    b=0\n",
        "n3=float(n1)\n",
        "n4=float(n2)\n",
        "print(\"\\n\\nResta: \",n3,\"-\",n4,\"=\",n3-n4)\n",
        "print(\"\\n\\nMultiplicación: \",n3,\"*\",n4,\"=\",n3*n4)\n",
        "print(\"\\n\\nDivisión: \",n3,\"/\",n4,\"=\",n3/n4)\n",
        "print(\"\\n\\nExponente: \",n3,\"^\",n4,\"=\",n3**n4)"
      ],
      "execution_count": null,
      "outputs": [
        {
          "output_type": "stream",
          "text": [
            "Ingrese el 1er. número\n",
            "2\n",
            "\n",
            "Ingrese un 2do. número\n",
            "3\n",
            "\n",
            "\n",
            "Suma:  2.0 + 3.0 = 5.0\n",
            "\n",
            "\n",
            "Resta:  2.0 - 3.0 = -1.0\n",
            "\n",
            "\n",
            "Multiplicación:  2.0 * 3.0 = 6.0\n",
            "\n",
            "\n",
            "División:  2.0 / 3.0 = 0.6666666666666666\n",
            "\n",
            "\n",
            "Exponente:  2.0 ^ 3.0 = 8.0\n"
          ],
          "name": "stdout"
        }
      ]
    },
    {
      "cell_type": "markdown",
      "metadata": {
        "id": "5_Q98C5EX-iy"
      },
      "source": [
        "#Ejercicio 3\n",
        "Con loop while o for, realiza una lista de 10 numeros multiplos de 3, y después realiza una función de loop que sume todos los números dentro del arreglo."
      ]
    },
    {
      "cell_type": "code",
      "metadata": {
        "colab": {
          "base_uri": "https://localhost:8080/"
        },
        "id": "PTMmETqkYkTP",
        "outputId": "83a828a0-34e2-458b-b4bf-c7782b34e848"
      },
      "source": [
        "i=2\n",
        "lista=[3]\n",
        "while i<11:\n",
        "  lista.insert(i,i*3)\n",
        "  i=i+1\n",
        "print(lista)\n",
        "i=0\n",
        "suma=0\n",
        "while i<10:\n",
        "  suma=suma+lista[i]\n",
        "  i=i+1\n",
        "print(suma)"
      ],
      "execution_count": null,
      "outputs": [
        {
          "output_type": "stream",
          "text": [
            "[3, 6, 9, 12, 15, 18, 21, 24, 27, 30]\n",
            "165\n"
          ],
          "name": "stdout"
        }
      ]
    },
    {
      "cell_type": "markdown",
      "metadata": {
        "id": "isBkM1WPYDsU"
      },
      "source": [
        "#Ejercicio 4\n",
        "*   Con una función de if else, revisar si un número es par o es impar.\n",
        "*   Con una función de if else, revisar si un número es primo o no."
      ]
    },
    {
      "cell_type": "code",
      "metadata": {
        "colab": {
          "base_uri": "https://localhost:8080/"
        },
        "id": "60dLtY4qbFae",
        "outputId": "c7330203-cc7e-4828-daf5-0ae488525ff4"
      },
      "source": [
        "#https://ellibrodepython.com/numeros-primos-python#:~:text=Para%20determinar%20si%20un%20n%C3%BAmero,es%20primo%20y%20devolvemos%20False%20.\n",
        "b=0\n",
        "while b == 0:\n",
        "  print(\"Ingrese un número\")\n",
        "  x=input()\n",
        "  try:\n",
        "    print(\"\\n\\nSu número es:\",float(x))\n",
        "    b=1\n",
        "  except ValueError:\n",
        "    print(\"\\n\\nSolamente ingrese números por favor.\")\n",
        "    b=0\n",
        "y=float(x)\n",
        "if y%2==0:\n",
        "  print(\"Su número es par\")\n",
        "else:\n",
        "  print(\"Su número es impar\")\n",
        "z=y-1\n",
        "i=2\n",
        "b2=0 #2da. bandera\n",
        "while i<=z:\n",
        "  if y%i!=0:\n",
        "    b2=b2+0\n",
        "  else:\n",
        "    b2=b2+1\n",
        "  i=i+1\n",
        "if b2==0:\n",
        "  print(\"Su número es primo\")\n",
        "else:\n",
        "  print(\"Su número NO es primo\")"
      ],
      "execution_count": null,
      "outputs": [
        {
          "output_type": "stream",
          "text": [
            "Ingrese un número\n",
            "104729\n",
            "\n",
            "\n",
            "Su número es: 104729.0\n",
            "Su número es impar\n",
            "Su número es primo\n"
          ],
          "name": "stdout"
        }
      ]
    },
    {
      "cell_type": "markdown",
      "metadata": {
        "id": "_OY05bDQYWsp"
      },
      "source": [
        "#Ejercicio 5\n",
        "Utilizando diferentes clases en python, crea una calculadora con los operadores básicos de suma, resta, multiplicación, división, y exponente."
      ]
    },
    {
      "cell_type": "code",
      "metadata": {
        "id": "dSLpJ1WYe4M1",
        "colab": {
          "base_uri": "https://localhost:8080/"
        },
        "outputId": "1814adfb-bc02-4f31-dc2c-18bffb53a2d6"
      },
      "source": [
        "#https://tutorial.recursospython.com/clases/\n",
        "n1=3 #1er. número arbitrario\n",
        "n2=4 #2do. número arbitrario\n",
        "na=[9,1,5,7] #na=números aleatorios\n",
        "str1=\"8\"\n",
        "str2=\"17\"\n",
        "str3=\"250\"\n",
        "str4=\"15.5\"\n",
        "class OB:\n",
        "  def suma(self):\n",
        "    print(\"Suma: \",na[0],\"+\",na[1],\" = \",na[0]+na[1],\"\\n\")\n",
        "  def resta(self):\n",
        "    print(\"Resta: \",na[2],\"-\",na[3],\" = \",na[2]-na[3],\"\\n\")\n",
        "  def mult(self): #mult=multiplicación\n",
        "    print(\"Multiplicación: \",str1,\"*\",str2,\" = \",int(str1)*int(str2),\"\\n\")\n",
        "  def div(self): #div=división\n",
        "    print(\"División: \",str3,\"/\",str4,\" = \",float(str3)/float(str4),\"\\n\")\n",
        "  def exp(self): #exp=exponente\n",
        "    print(\"Exponente: \",n1,\"^\",n2,\" = \",n1**n2,\"\\n\")\n",
        "ob=OB()\n",
        "ob.suma()\n",
        "ob.resta()\n",
        "ob.mult()\n",
        "ob.div()\n",
        "ob.exp()"
      ],
      "execution_count": null,
      "outputs": [
        {
          "output_type": "stream",
          "text": [
            "Suma:  9 + 1  =  10 \n",
            "\n",
            "Resta:  5 - 7  =  -2 \n",
            "\n",
            "Multiplicación:  8 * 17  =  136 \n",
            "\n",
            "División:  250 / 15.5  =  16.129032258064516 \n",
            "\n",
            "Exponente:  3 ^ 4  =  81 \n",
            "\n"
          ],
          "name": "stdout"
        }
      ]
    },
    {
      "cell_type": "markdown",
      "metadata": {
        "id": "WztqWWFXM9jH"
      },
      "source": [
        "#Tuplas"
      ]
    },
    {
      "cell_type": "markdown",
      "metadata": {
        "id": "6t5s-4sqNAsV"
      },
      "source": [
        "*   Crear una variable flotante, integer, boleana y compleja e imprimir el tipo de variable que es.\n",
        "\n"
      ]
    },
    {
      "cell_type": "code",
      "metadata": {
        "colab": {
          "base_uri": "https://localhost:8080/"
        },
        "id": "GFrOlEkTPrO4",
        "outputId": "953b38b1-e547-4d5e-fa4f-3ed794f383d6"
      },
      "source": [
        "#https://ellibrodepython.com/booleano-python\n",
        "#https://ellibrodepython.com/numeros-complejos\n",
        "vflot=2.0\n",
        "vint=7\n",
        "vboo=True\n",
        "vcom=5+5j\n",
        "print(type(vflot))\n",
        "print(type(vint))\n",
        "print(type(vboo))\n",
        "print(type(vcom))"
      ],
      "execution_count": null,
      "outputs": [
        {
          "output_type": "stream",
          "text": [
            "<class 'float'>\n",
            "<class 'int'>\n",
            "<class 'bool'>\n",
            "<class 'complex'>\n"
          ],
          "name": "stdout"
        }
      ]
    },
    {
      "cell_type": "markdown",
      "metadata": {
        "id": "wj1gI9jBNHT_"
      },
      "source": [
        "*   Crear una tupla con valores enteros imprimir el primer y ultimo valor.\n",
        "\n"
      ]
    },
    {
      "cell_type": "code",
      "metadata": {
        "colab": {
          "base_uri": "https://localhost:8080/"
        },
        "id": "U0ppIaRQQhL-",
        "outputId": "49cf3f47-959a-4deb-b6ad-c95ba34370e3"
      },
      "source": [
        "tup=(11,12,13,14,15)\n",
        "print(tup[0])\n",
        "print(tup[4])"
      ],
      "execution_count": null,
      "outputs": [
        {
          "output_type": "stream",
          "text": [
            "11\n",
            "15\n"
          ],
          "name": "stdout"
        }
      ]
    },
    {
      "cell_type": "markdown",
      "metadata": {
        "id": "HEh3TCSYNLyv"
      },
      "source": [
        "*   Añadir 3 valores de string a la tupla.\n",
        "\n"
      ]
    },
    {
      "cell_type": "code",
      "metadata": {
        "colab": {
          "base_uri": "https://localhost:8080/"
        },
        "id": "t_UfXyZcQ1wJ",
        "outputId": "b8fd9551-c4c3-43c6-9ea6-a72d546b5929"
      },
      "source": [
        "tup=(11,12,13,14,15)\n",
        "tup=tup.__add__((20,21,22,))\n",
        "print(tup)"
      ],
      "execution_count": null,
      "outputs": [
        {
          "output_type": "stream",
          "text": [
            "(11, 12, 13, 14, 15, 20, 21, 22)\n"
          ],
          "name": "stdout"
        }
      ]
    },
    {
      "cell_type": "markdown",
      "metadata": {
        "id": "oPrcFZC9NUKw"
      },
      "source": [
        "*   Verificar si una variable existe dentro de la tupla\n",
        "\n"
      ]
    },
    {
      "cell_type": "code",
      "metadata": {
        "colab": {
          "base_uri": "https://localhost:8080/"
        },
        "id": "l4EwAe9CTLFL",
        "outputId": "7693735b-61c7-4ae6-e786-75359c873fb0"
      },
      "source": [
        "#https://www.delftstack.com/es/howto/python/python-check-if-variable-exists/\n",
        "tup=(11,12,13,14,15)\n",
        "tup=tup.__add__((20,21,22,))\n",
        "if 'tup' in globals():\n",
        "    print (\"tup: variable exist\")\n",
        "else:\n",
        "    print (\"tup: variable does not exist\")"
      ],
      "execution_count": null,
      "outputs": [
        {
          "output_type": "stream",
          "text": [
            "tup: variable exist\n"
          ],
          "name": "stdout"
        }
      ]
    },
    {
      "cell_type": "markdown",
      "metadata": {
        "id": "aiSJwiDJNXD_"
      },
      "source": [
        "#Listas\n"
      ]
    },
    {
      "cell_type": "markdown",
      "metadata": {
        "id": "kJy3GgYPNfgZ"
      },
      "source": [
        "*   Crear una lista con 40 elementos aleatorios enteros.\n",
        "\n"
      ]
    },
    {
      "cell_type": "code",
      "metadata": {
        "colab": {
          "base_uri": "https://localhost:8080/"
        },
        "id": "CIL-xcnrTiMN",
        "outputId": "1b63ee1e-d102-4879-a6c5-92f87fe1e1f6"
      },
      "source": [
        "#https://j2logo.com/python/generar-numeros-aleatorios-en-python/\n",
        "import random\n",
        "lista=[]\n",
        "i=1\n",
        "while i<=40:\n",
        "  lista.append(random.randint(1,100))\n",
        "  i=i+1\n",
        "print(lista)\n",
        "print(\"\\nCantidad de números aleatorios en la lista:\",len(lista))"
      ],
      "execution_count": null,
      "outputs": [
        {
          "output_type": "stream",
          "text": [
            "[26, 25, 53, 22, 70, 16, 6, 68, 44, 13, 40, 45, 56, 85, 16, 98, 5, 27, 39, 71, 79, 42, 33, 96, 64, 54, 100, 61, 33, 67, 100, 25, 22, 36, 22, 57, 27, 34, 79, 4]\n",
            "\n",
            "Cantidad de números aleatorios en la lista: 40\n"
          ],
          "name": "stdout"
        }
      ]
    },
    {
      "cell_type": "markdown",
      "metadata": {
        "id": "ZF8dQDvFNjvI"
      },
      "source": [
        "*   Con una funcion (def) crear dos listas nuevas a partir de la lista creada por numeros aleatorios, en la cual en una esten los elementos pares, y en la otra los elementos impares.\n",
        "\n"
      ]
    },
    {
      "cell_type": "code",
      "metadata": {
        "colab": {
          "base_uri": "https://localhost:8080/"
        },
        "id": "9uAp76cuVY_9",
        "outputId": "0edc45ad-0e15-423e-9498-c6f20d6923e3"
      },
      "source": [
        "import random\n",
        "lista=[]\n",
        "i=1\n",
        "while i<=40:\n",
        "  lista.append(random.randint(1,100))\n",
        "  i=i+1\n",
        "class f: #Función\n",
        "  def parimp(Alista): #Par e impar ;Alista=Agregar lista\n",
        "    npares=[] #npares= números pares\n",
        "    nimpares=[] #nimpares= números impares\n",
        "    j=0\n",
        "    while j<=len(Alista)-1:\n",
        "      if Alista[j]%2==0:\n",
        "        npares.append(Alista[j])\n",
        "      else:\n",
        "        nimpares.append(Alista[j])\n",
        "      j=j+1\n",
        "    print(\"\\nNúmeros pares: \",npares)\n",
        "    print(\"\\nNúmeros impares: \",nimpares)\n",
        "f.parimp(lista)"
      ],
      "execution_count": null,
      "outputs": [
        {
          "output_type": "stream",
          "text": [
            "\n",
            "Números pares:  [76, 20, 88, 94, 46, 38, 92, 90, 76, 18, 38, 40, 6, 92, 66, 66]\n",
            "\n",
            "Números impares:  [89, 17, 21, 49, 79, 7, 9, 73, 45, 13, 97, 51, 7, 77, 79, 49, 27, 57, 3, 53, 43, 33, 39, 37]\n"
          ],
          "name": "stdout"
        }
      ]
    },
    {
      "cell_type": "markdown",
      "metadata": {
        "id": "2DObAgLuNoL4"
      },
      "source": [
        "*   Crear dos variables con la longitud de ambas listas nuevas e imprimir las variables.\n",
        "\n"
      ]
    },
    {
      "cell_type": "code",
      "metadata": {
        "colab": {
          "base_uri": "https://localhost:8080/"
        },
        "id": "JLCl7LlQZWWU",
        "outputId": "10cf5b3c-bad4-4ef2-8234-a89c1d9d29f6"
      },
      "source": [
        "import random\n",
        "lista=[]\n",
        "i=1\n",
        "while i<=40:\n",
        "  lista.append(random.randint(1,100))\n",
        "  i=i+1\n",
        "class f: #Función\n",
        "  def parimp(Alista): #Par e impar ;Alista=Agregar lista\n",
        "    npares=[] #npares= números pares\n",
        "    nimpares=[] #nimpares= números impares\n",
        "    j=0\n",
        "    while j<=len(Alista)-1:\n",
        "      if Alista[j]%2==0:\n",
        "        npares.append(Alista[j])\n",
        "      else:\n",
        "        nimpares.append(Alista[j])\n",
        "      j=j+1\n",
        "    x=len(pares)\n",
        "    y=len(impares)\n",
        "    print(\"Cantidad de números pares:\",x,\"\\nNúmeros pares: \",npares)\n",
        "    print(\"\\nCantidad de números impares:\",y,\"\\nNúmeros impares: \",nimpares)\n",
        "f.parimp(lista)"
      ],
      "execution_count": null,
      "outputs": [
        {
          "output_type": "stream",
          "text": [
            "Cantidad de números pares: 24 \n",
            "Números pares:  [30, 80, 34, 96, 74, 72, 2, 72, 6, 12, 54, 14, 66, 62, 90, 4, 22]\n",
            "\n",
            "Cantidad de números impares: 16 \n",
            "Números impares:  [37, 69, 41, 99, 37, 9, 41, 65, 71, 35, 7, 89, 39, 75, 51, 77, 59, 17, 19, 11, 89, 41, 23]\n"
          ],
          "name": "stdout"
        }
      ]
    },
    {
      "cell_type": "markdown",
      "metadata": {
        "id": "xECGOoGHNrjZ"
      },
      "source": [
        "*   Ordenar los elementos de la lista par de mayor a menor, y los de la lista impar de menor a mayor.\n",
        "\n"
      ]
    },
    {
      "cell_type": "code",
      "metadata": {
        "colab": {
          "base_uri": "https://localhost:8080/"
        },
        "id": "yxfRgS0Mdve1",
        "outputId": "80db7320-160f-4092-fc12-0c06c698ee56"
      },
      "source": [
        "#https://j2logo.com/python/ordenar-una-lista-en-python/\n",
        "import random\n",
        "lista=[]\n",
        "i=1\n",
        "while i<=40:\n",
        "  lista.append(random.randint(1,100))\n",
        "  i=i+1\n",
        "class f: #Función\n",
        "  def parimp(Alista): #Par e impar ;Alista=Agregar lista\n",
        "    npares=[] #npares= números pares\n",
        "    nimpares=[] #nimpares= números impares\n",
        "    j=0\n",
        "    while j<=len(Alista)-1:\n",
        "      if Alista[j]%2==0:\n",
        "        npares.append(Alista[j])\n",
        "      else:\n",
        "        nimpares.append(Alista[j])\n",
        "      j=j+1\n",
        "    npares.sort(reverse=True)\n",
        "    nimpares.sort()\n",
        "    x=len(pares)\n",
        "    y=len(impares)\n",
        "    print(\"Cantidad de números pares:\",x,\"\\nNúmeros pares: \",npares)\n",
        "    print(\"\\nCantidad de números impares:\",y,\"\\nNúmeros impares: \",nimpares)\n",
        "f.parimp(lista)"
      ],
      "execution_count": null,
      "outputs": [
        {
          "output_type": "stream",
          "text": [
            "Cantidad de números pares: 24 \n",
            "Números pares:  [98, 90, 90, 86, 86, 84, 66, 62, 50, 46, 46, 44, 40, 34, 26, 26, 18, 6]\n",
            "\n",
            "Cantidad de números impares: 16 \n",
            "Números impares:  [1, 5, 19, 21, 31, 33, 35, 39, 39, 45, 45, 55, 55, 57, 63, 65, 83, 83, 89, 91, 93, 93]\n"
          ],
          "name": "stdout"
        }
      ]
    },
    {
      "cell_type": "markdown",
      "metadata": {
        "id": "f5MPZ9gONvLy"
      },
      "source": [
        "*   Utilizar al menos cuatro de las funciones de listas en python en la lista original de 40 elementos.\n",
        "\n"
      ]
    },
    {
      "cell_type": "code",
      "metadata": {
        "colab": {
          "base_uri": "https://localhost:8080/"
        },
        "id": "veLArI5veat3",
        "outputId": "30342c66-2062-4e67-a188-97bbd385a0d1"
      },
      "source": [
        "lista.append(500)\n",
        "lista.reverse()\n",
        "lista.pop()\n",
        "lista.extend([-1,-2])\n",
        "lista"
      ],
      "execution_count": null,
      "outputs": [
        {
          "output_type": "execute_result",
          "data": {
            "text/plain": [
              "[500,\n",
              " 6,\n",
              " 62,\n",
              " 26,\n",
              " 93,\n",
              " 39,\n",
              " 39,\n",
              " 90,\n",
              " 18,\n",
              " 21,\n",
              " 63,\n",
              " 26,\n",
              " 65,\n",
              " 46,\n",
              " 34,\n",
              " 45,\n",
              " 50,\n",
              " 40,\n",
              " 31,\n",
              " 1,\n",
              " 83,\n",
              " 90,\n",
              " 35,\n",
              " 89,\n",
              " 5,\n",
              " 66,\n",
              " 86,\n",
              " 86,\n",
              " 98,\n",
              " 83,\n",
              " 19,\n",
              " 91,\n",
              " 84,\n",
              " 44,\n",
              " 45,\n",
              " 93,\n",
              " 55,\n",
              " 57,\n",
              " 55,\n",
              " 33,\n",
              " -1,\n",
              " -2]"
            ]
          },
          "metadata": {},
          "execution_count": 249
        }
      ]
    },
    {
      "cell_type": "markdown",
      "metadata": {
        "id": "4dQk39XtNYYe"
      },
      "source": [
        "#Diccionarios"
      ]
    },
    {
      "cell_type": "markdown",
      "metadata": {
        "id": "Sp8k2Dk6OwLX"
      },
      "source": [
        "*   Crear un diccionario de 6 personas que conozcas con su primer nombre y su edad.\n",
        "\n"
      ]
    },
    {
      "cell_type": "code",
      "metadata": {
        "colab": {
          "base_uri": "https://localhost:8080/"
        },
        "id": "_O25CLXVq4-X",
        "outputId": "66a98c4e-9135-460f-bdab-45d29fa30fae"
      },
      "source": [
        "d1={'Mauricio':22,'Alejandro':21,'Erick':19,'Edu':20,'Ian':21,'Marcelo':20}\n",
        "d1"
      ],
      "execution_count": 271,
      "outputs": [
        {
          "output_type": "execute_result",
          "data": {
            "text/plain": [
              "{'Alejandro': 21,\n",
              " 'Edu': 20,\n",
              " 'Erick': 19,\n",
              " 'Ian': 21,\n",
              " 'Marcelo': 20,\n",
              " 'Mauricio': 22}"
            ]
          },
          "metadata": {},
          "execution_count": 271
        }
      ]
    },
    {
      "cell_type": "markdown",
      "metadata": {
        "id": "T5TacuMJO0V-"
      },
      "source": [
        "*   Crear una lista con los valores de la edad y reacomodar la lista de menor a mayor valor.\n",
        "\n"
      ]
    },
    {
      "cell_type": "code",
      "metadata": {
        "colab": {
          "base_uri": "https://localhost:8080/"
        },
        "id": "XL5KiBTWrx4h",
        "outputId": "3a67c44e-41ef-451b-adf3-9e597f32b0d4"
      },
      "source": [
        "listad1=[]\n",
        "listad1.append(d1['Mauricio'])\n",
        "listad1.append(d1['Alejandro'])\n",
        "listad1.append(d1['Erick'])\n",
        "listad1.append(d1['Edu'])\n",
        "listad1.append(d1['Ian'])\n",
        "listad1.append(d1['Marcelo'])\n",
        "listad1.sort()\n",
        "listad1"
      ],
      "execution_count": 272,
      "outputs": [
        {
          "output_type": "execute_result",
          "data": {
            "text/plain": [
              "[19, 20, 20, 21, 21, 22]"
            ]
          },
          "metadata": {},
          "execution_count": 272
        }
      ]
    },
    {
      "cell_type": "markdown",
      "metadata": {
        "id": "pa_E81sfO0b9"
      },
      "source": [
        "*   Usando el diccionario y un loop, imprimir solo los nombres.\n",
        "\n"
      ]
    },
    {
      "cell_type": "code",
      "metadata": {
        "colab": {
          "base_uri": "https://localhost:8080/"
        },
        "id": "Almk46IgtFaP",
        "outputId": "a5a97c84-5779-4304-aec8-a1083219db0c"
      },
      "source": [
        "#https://devcode.la/tutoriales/diccionarios-en-python/\n",
        "for key in d1:\n",
        "  print (key)"
      ],
      "execution_count": 302,
      "outputs": [
        {
          "output_type": "stream",
          "text": [
            "Mauricio\n",
            "Alejandro\n",
            "Erick\n",
            "Edu\n",
            "Ian\n",
            "Marcelo\n"
          ],
          "name": "stdout"
        }
      ]
    },
    {
      "cell_type": "markdown",
      "metadata": {
        "id": "UI1NkpuAPQHZ"
      },
      "source": [
        "*   Añadir dos personas nuevas a tu diccionario, incluyendo edad.\n",
        "\n"
      ]
    },
    {
      "cell_type": "code",
      "metadata": {
        "colab": {
          "base_uri": "https://localhost:8080/"
        },
        "id": "2JkF8CSKvK-i",
        "outputId": "cb8469dc-828d-4e38-ac2f-3c8e9e96b30b"
      },
      "source": [
        "d1[\"Cristian\"]=\"20\"\n",
        "d1[\"Víctor\"]=\"21\"\n",
        "d1"
      ],
      "execution_count": 305,
      "outputs": [
        {
          "output_type": "execute_result",
          "data": {
            "text/plain": [
              "{'Alejandro': 21,\n",
              " 'Cristian': '20',\n",
              " 'Edu': 20,\n",
              " 'Erick': 19,\n",
              " 'Ian': 21,\n",
              " 'Marcelo': 20,\n",
              " 'Mauricio': 22,\n",
              " 'Víctor': '21'}"
            ]
          },
          "metadata": {},
          "execution_count": 305
        }
      ]
    },
    {
      "cell_type": "markdown",
      "metadata": {
        "id": "dpxVPpiDNa6R"
      },
      "source": [
        "#Sets"
      ]
    },
    {
      "cell_type": "markdown",
      "metadata": {
        "id": "7-cojLRiPUDJ"
      },
      "source": [
        "*   Crea un set con 100 numeros aleatorios enteros del 1 al 25.\n",
        "\n"
      ]
    },
    {
      "cell_type": "code",
      "metadata": {
        "id": "N91LUHSXvdJB"
      },
      "source": [
        "set100={1}\n",
        "i=1\n",
        "set100.remove(1)\n",
        "while i<=100:\n",
        "  set100.add(random.randint(1,25))\n",
        "  i=i+1"
      ],
      "execution_count": 355,
      "outputs": []
    },
    {
      "cell_type": "markdown",
      "metadata": {
        "id": "LwvvmquHPeUZ"
      },
      "source": [
        "*   Comprueba la longitud de tu set.\n",
        "\n"
      ]
    },
    {
      "cell_type": "code",
      "metadata": {
        "colab": {
          "base_uri": "https://localhost:8080/"
        },
        "id": "bf1LHXUavdq4",
        "outputId": "ca645d82-cbce-4023-e245-6e4ba207bab4"
      },
      "source": [
        "len(set100)"
      ],
      "execution_count": 356,
      "outputs": [
        {
          "output_type": "execute_result",
          "data": {
            "text/plain": [
              "25"
            ]
          },
          "metadata": {},
          "execution_count": 356
        }
      ]
    },
    {
      "cell_type": "markdown",
      "metadata": {
        "id": "cj2HddxEPhQp"
      },
      "source": [
        "*   Crea una lista de 5 numeros aleatorios del 1 al 10 y comprueba si cada valor aparece en el set inicial.\n",
        "\n"
      ]
    },
    {
      "cell_type": "code",
      "metadata": {
        "colab": {
          "base_uri": "https://localhost:8080/"
        },
        "id": "tRxLGhwrveBw",
        "outputId": "65affeba-75c2-4018-c3af-106b49e98144"
      },
      "source": [
        "lista5=[]\n",
        "i=1\n",
        "while i<=5:\n",
        "  lista5.append(random.randint(1,10))\n",
        "  i=i+1\n",
        "i=0\n",
        "while i<=4:\n",
        "  print(lista5[i] in set100,\". El número \",lista5[i],\" sí está en el set\")\n",
        "  i=i+1"
      ],
      "execution_count": 376,
      "outputs": [
        {
          "output_type": "stream",
          "text": [
            "True . El número  6  sí está en el set\n",
            "True . El número  8  sí está en el set\n",
            "True . El número  7  sí está en el set\n",
            "True . El número  9  sí está en el set\n",
            "True . El número  6  sí está en el set\n"
          ],
          "name": "stdout"
        }
      ]
    }
  ]
}